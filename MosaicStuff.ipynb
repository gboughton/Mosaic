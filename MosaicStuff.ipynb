{
 "cells": [
  {
   "cell_type": "code",
   "execution_count": 2,
   "metadata": {
    "collapsed": true
   },
   "outputs": [],
   "source": [
    "import os\n",
    "import sys\n",
    "import glob\n",
    "import argparse\n",
    "import numpy as np\n",
    "from astropy.io import fits\n",
    "import matplotlib.pyplot as plt"
   ]
  },
  {
   "cell_type": "code",
   "execution_count": 3,
   "metadata": {
    "collapsed": false
   },
   "outputs": [],
   "source": [
    "#parser = argparse.ArgumentParser(description ='Run sextractor on mosaics')\n",
    "#parser.add_argument('--d',dest = 'd', default =' ~/github/HalphaImaging/astromatic', help = 'Locates path of config files')\n",
    "#args = parser.parse_args()\n",
    "#os.system('cp ' +args.d + '/default.* .')"
   ]
  },
  {
   "cell_type": "code",
   "execution_count": 4,
   "metadata": {
    "collapsed": false
   },
   "outputs": [
    {
     "name": "stdout",
     "output_type": "stream",
     "text": [
      "A1367_ha12\n"
     ]
    }
   ],
   "source": [
    "hafiles = glob.glob('*_ha*')\n",
    "hafiles = set(hafiles) - set(glob.glob(\"*.*\"))\n",
    "for it in hafiles:\n",
    "    print it\n",
    "    t = it.split('_')\n",
    "    os.system('/usr/bin/sextractor ' + it + '.coadd.fits -c default.sex.hdi -CATALOG_NAME ' + it + '.cat')\n",
    "    os.system('/usr/bin/sextractor ' + it + '.coadd.fits, ' + t[0] + '_R.coadd.fits -c default.sex.hdi -CATALOG_NAME ' + t[0] + '_R.cat')\n",
    "# Catalogs made"
   ]
  },
  {
   "cell_type": "code",
   "execution_count": 5,
   "metadata": {
    "collapsed": false
   },
   "outputs": [
    {
     "name": "stdout",
     "output_type": "stream",
     "text": [
      "No catalogs found\n"
     ]
    },
    {
     "ename": "SystemExit",
     "evalue": "0",
     "output_type": "error",
     "traceback": [
      "An exception has occurred, use %tb to see the full traceback.\n",
      "\u001b[0;31mSystemExit\u001b[0m\u001b[0;31m:\u001b[0m 0\n"
     ]
    },
    {
     "name": "stderr",
     "output_type": "stream",
     "text": [
      "To exit: use 'exit', 'quit', or Ctrl-D.\n"
     ]
    }
   ],
   "source": [
    "cluster = \"\"\n",
    "hacat = glob.glob(cluster + \"_ha*.cat\")\n",
    "rcat = glob.glob(cluster + \"_R.cat\")\n",
    "try:\n",
    "    hacat = hacat[0]\n",
    "    rcat = rcat[0]\n",
    "except IndexError:\n",
    "    print \"No catalogs found\"\n",
    "    sys.exit(0)\n",
    "hadat = fits.getdata(hacat,2)\n",
    "rdat = fits.getdata(rcat,2)\n",
    "haflux = hadat[\"FLX\"] #Not right column name\n",
    "rflux = rdat[\"FLX\"]\n",
    "hflags = hadat[\"FLAGS\"]\n",
    "rflags = rdat[\"FLAGS\"]\n",
    "print \"Number of Points found:\",len(rflags)\n",
    "keepflag = np.ones(len(rflags),dtype = bool)\n",
    "for i in range(len(rflags)):\n",
    "    if (rflags[i]+hflags[i])>0:\n",
    "        keepflag[i] = False\n",
    "rgflx = rflux[keepflag]\n",
    "hagflx = haflux[keepflag]\n",
    "print \"Number of Uncompromised Points:\",len(rgflx)\n",
    "dflux = hagflx-rgflx\n",
    "plt.hist(dflux)\n",
    "plt.title(\"Halpha Flux - R Flux\")\n",
    "plt.xlabel(\"Difference\")\n",
    "plt.ylabel(\"Amount\")\n"
   ]
  },
  {
   "cell_type": "code",
   "execution_count": null,
   "metadata": {
    "collapsed": false
   },
   "outputs": [],
   "source": [
    "hafiles = ['it_ha.cat','this_ha.cat','no_ha.cat']\n",
    "rfiles = []\n",
    "for it in hafiles:\n",
    "    print it\n",
    "    t = it.split(\"_\")\n",
    "    print t\n",
    "    rfiles.append(t[0]+\"_R.cat\")\n",
    "print rfiles"
   ]
  },
  {
   "cell_type": "code",
   "execution_count": 25,
   "metadata": {
    "collapsed": false
   },
   "outputs": [
    {
     "name": "stdout",
     "output_type": "stream",
     "text": [
      "[False  True False False False False False  True False  True]\n",
      "[2 3 6]\n",
      "[1 2 3]\n"
     ]
    }
   ],
   "source": [
    "rflags = [0,0,2,3,2,1,0,0,2,0]\n",
    "hflags = [1,0,3,2,0,1,1,0,0,0]\n",
    "hd = np.array([3,2,5,5,2,6,8,3,1,6])\n",
    "rd = np.array([4,1,7,2,7,9,5,2,5,3])\n",
    "keepflag = np.ones(len(rflags),dtype = bool)\n",
    "for i in range(len(rflags)):\n",
    "    if (rflags[i]+hflags[i])>0:\n",
    "        keepflag[i] = False\n",
    "\n",
    "#keepflag[rflags<1]=False\n",
    "#print keepflag\n",
    "#keepflag[hflags>0]=False\n",
    "print keepflag\n",
    "print hd[keepflag]\n",
    "print rd[keepflag]\n",
    "# Should be [False, True, False, False, False, False, False, True, False, True]"
   ]
  },
  {
   "cell_type": "code",
   "execution_count": null,
   "metadata": {
    "collapsed": true
   },
   "outputs": [],
   "source": []
  }
 ],
 "metadata": {
  "kernelspec": {
   "display_name": "Python 2",
   "language": "python",
   "name": "python2"
  },
  "language_info": {
   "codemirror_mode": {
    "name": "ipython",
    "version": 2
   },
   "file_extension": ".py",
   "mimetype": "text/x-python",
   "name": "python",
   "nbconvert_exporter": "python",
   "pygments_lexer": "ipython2",
   "version": "2.7.11"
  }
 },
 "nbformat": 4,
 "nbformat_minor": 0
}
