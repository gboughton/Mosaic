{
 "cells": [
  {
   "cell_type": "code",
   "execution_count": 2,
   "metadata": {
    "collapsed": true
   },
   "outputs": [],
   "source": [
    "import os\n",
    "import sys\n",
    "import glob\n",
    "import argparse\n",
    "import numpy as np\n",
    "from astropy.io import fits\n",
    "import matplotlib.pyplot as plt"
   ]
  },
  {
   "cell_type": "code",
   "execution_count": 3,
   "metadata": {
    "collapsed": false
   },
   "outputs": [],
   "source": [
    "#parser = argparse.ArgumentParser(description ='Run sextractor on mosaics')\n",
    "#parser.add_argument('--d',dest = 'd', default =' ~/github/HalphaImaging/astromatic', help = 'Locates path of config files')\n",
    "#args = parser.parse_args()\n",
    "#os.system('cp ' +args.d + '/default.* .')"
   ]
  },
  {
   "cell_type": "code",
   "execution_count": 4,
   "metadata": {
    "collapsed": false
   },
   "outputs": [
    {
     "name": "stdout",
     "output_type": "stream",
     "text": [
      "A1367_ha12\n"
     ]
    }
   ],
   "source": [
    "hafiles = glob.glob('*_ha*')\n",
    "hafiles = set(hafiles) - set(glob.glob(\"*.*\"))\n",
    "for it in hafiles:\n",
    "    print it\n",
    "    t = it.split('_')\n",
    "    os.system('/usr/bin/sextractor ' + t[0] + '_R.coadd.fits -c default.sex.hdi -CATALOG_NAME ' + t[0] + '_R.cat')\n",
    "    os.system('/usr/bin/sextractor ' + t[0] + '_R.coadd.fits, ' + it + '.coadd.fits -c default.sex.hdi -CATALOG_NAME ' + it + '_R.cat')\n",
    "# Catalogs made"
   ]
  },
  {
   "cell_type": "code",
   "execution_count": 9,
   "metadata": {
    "collapsed": false
   },
   "outputs": [
    {
     "name": "stdout",
     "output_type": "stream",
     "text": [
      "Number of Points found: 999\n"
     ]
    },
    {
     "ename": "IndexError",
     "evalue": "index 675 is out of bounds for axis 0 with size 675",
     "output_type": "error",
     "traceback": [
      "\u001b[0;31m---------------------------------------------------------------------------\u001b[0m",
      "\u001b[0;31mIndexError\u001b[0m                                Traceback (most recent call last)",
      "\u001b[0;32m<ipython-input-9-02177a9f975d>\u001b[0m in \u001b[0;36m<module>\u001b[0;34m()\u001b[0m\n\u001b[1;32m     17\u001b[0m \u001b[0mkeepflag\u001b[0m \u001b[0;34m=\u001b[0m \u001b[0mnp\u001b[0m\u001b[0;34m.\u001b[0m\u001b[0mones\u001b[0m\u001b[0;34m(\u001b[0m\u001b[0mlen\u001b[0m\u001b[0;34m(\u001b[0m\u001b[0mrflags\u001b[0m\u001b[0;34m)\u001b[0m\u001b[0;34m,\u001b[0m\u001b[0mdtype\u001b[0m \u001b[0;34m=\u001b[0m \u001b[0mbool\u001b[0m\u001b[0;34m)\u001b[0m\u001b[0;34m\u001b[0m\u001b[0m\n\u001b[1;32m     18\u001b[0m \u001b[0;32mfor\u001b[0m \u001b[0mi\u001b[0m \u001b[0;32min\u001b[0m \u001b[0mrange\u001b[0m\u001b[0;34m(\u001b[0m\u001b[0mlen\u001b[0m\u001b[0;34m(\u001b[0m\u001b[0mrflags\u001b[0m\u001b[0;34m)\u001b[0m\u001b[0;34m-\u001b[0m\u001b[0;36m1\u001b[0m\u001b[0;34m)\u001b[0m\u001b[0;34m:\u001b[0m\u001b[0;34m\u001b[0m\u001b[0m\n\u001b[0;32m---> 19\u001b[0;31m     \u001b[0;32mif\u001b[0m \u001b[0;34m(\u001b[0m\u001b[0mrflags\u001b[0m\u001b[0;34m[\u001b[0m\u001b[0mi\u001b[0m\u001b[0;34m]\u001b[0m\u001b[0;34m+\u001b[0m\u001b[0mhflags\u001b[0m\u001b[0;34m[\u001b[0m\u001b[0mi\u001b[0m\u001b[0;34m]\u001b[0m\u001b[0;34m)\u001b[0m\u001b[0;34m>\u001b[0m\u001b[0;36m0\u001b[0m\u001b[0;34m:\u001b[0m\u001b[0;34m\u001b[0m\u001b[0m\n\u001b[0m\u001b[1;32m     20\u001b[0m         \u001b[0mkeepflag\u001b[0m\u001b[0;34m[\u001b[0m\u001b[0mi\u001b[0m\u001b[0;34m]\u001b[0m \u001b[0;34m=\u001b[0m \u001b[0mFalse\u001b[0m\u001b[0;34m\u001b[0m\u001b[0m\n\u001b[1;32m     21\u001b[0m \u001b[0mrgflx\u001b[0m \u001b[0;34m=\u001b[0m \u001b[0mrflux\u001b[0m\u001b[0;34m[\u001b[0m\u001b[0mkeepflag\u001b[0m\u001b[0;34m]\u001b[0m\u001b[0;34m\u001b[0m\u001b[0m\n",
      "\u001b[0;31mIndexError\u001b[0m: index 675 is out of bounds for axis 0 with size 675"
     ]
    }
   ],
   "source": [
    "cluster = \"\"\n",
    "hacat = glob.glob(cluster + \"_ha*.cat\")\n",
    "rcat = glob.glob(cluster + \"_R.cat\")\n",
    "try:\n",
    "    hacat = hacat[0]\n",
    "    rcat = rcat[0]\n",
    "except IndexError:\n",
    "    print \"No catalogs found\"\n",
    "    sys.exit(0)\n",
    "hadat = fits.getdata(hacat,2)\n",
    "rdat = fits.getdata(rcat,2)\n",
    "haflux = hadat[\"FLUX_AUTO\"] #Not right column name\n",
    "rflux = rdat[\"FLUX_AUTO\"]\n",
    "hflags = hadat[\"FLAGS\"]\n",
    "rflags = rdat[\"FLAGS\"]\n",
    "print \"Number of Points found:\",len(rflags)\n",
    "keepflag = np.ones(len(rflags),dtype = bool)\n",
    "for i in range(len(hflags)-1):\n",
    "    if (rflags[i]+hflags[i])>0:\n",
    "        keepflag[i] = False\n",
    "rgflx = rflux[keepflag]\n",
    "hagflx = haflux[keepflag]\n",
    "print \"Number of Uncompromised Points:\",len(rgflx)\n",
    "dflux = hagflx-rgflx\n",
    "plt.hist(dflux)\n",
    "plt.title(\"Halpha Flux - R Flux\")\n",
    "plt.xlabel(\"Difference\")\n",
    "plt.ylabel(\"Amount\")\n"
   ]
  },
  {
   "cell_type": "code",
   "execution_count": null,
   "metadata": {
    "collapsed": false
   },
   "outputs": [],
   "source": [
    "hafiles = ['it_ha.cat','this_ha.cat','no_ha.cat']\n",
    "rfiles = []\n",
    "for it in hafiles:\n",
    "    print it\n",
    "    t = it.split(\"_\")\n",
    "    print t\n",
    "    rfiles.append(t[0]+\"_R.cat\")\n",
    "print rfiles"
   ]
  },
  {
   "cell_type": "code",
   "execution_count": 25,
   "metadata": {
    "collapsed": false
   },
   "outputs": [
    {
     "name": "stdout",
     "output_type": "stream",
     "text": [
      "[False  True False False False False False  True False  True]\n",
      "[2 3 6]\n",
      "[1 2 3]\n"
     ]
    }
   ],
   "source": [
    "rflags = [0,0,2,3,2,1,0,0,2,0]\n",
    "hflags = [1,0,3,2,0,1,1,0,0,0]\n",
    "hd = np.array([3,2,5,5,2,6,8,3,1,6])\n",
    "rd = np.array([4,1,7,2,7,9,5,2,5,3])\n",
    "keepflag = np.ones(len(rflags),dtype = bool)\n",
    "for i in range(len(rflags)):\n",
    "    if (rflags[i]+hflags[i])>0:\n",
    "        keepflag[i] = False\n",
    "\n",
    "#keepflag[rflags<1]=False\n",
    "#print keepflag\n",
    "#keepflag[hflags>0]=False\n",
    "print keepflag\n",
    "print hd[keepflag]\n",
    "print rd[keepflag]\n",
    "# Should be [False, True, False, False, False, False, False, True, False, True]"
   ]
  },
  {
   "cell_type": "code",
   "execution_count": 6,
   "metadata": {
    "collapsed": false
   },
   "outputs": [
    {
     "data": {
      "text/plain": [
       "ColDefs(\n",
       "    name = 'NUMBER'; format = '1J'; disp = 'I10'\n",
       "    name = 'X_IMAGE'; format = '1E'; unit = 'pixel'; disp = 'F11.4'\n",
       "    name = 'Y_IMAGE'; format = '1E'; unit = 'pixel'; disp = 'F11.4'\n",
       "    name = 'ERRAWIN_IMAGE'; format = '1E'; unit = 'pixel'; disp = 'F9.5'\n",
       "    name = 'ERRBWIN_IMAGE'; format = '1E'; unit = 'pixel'; disp = 'F9.5'\n",
       "    name = 'ERRTHETAWIN_IMAGE'; format = '1E'; unit = 'deg'; disp = 'F6.2'\n",
       "    name = 'XWIN_IMAGE'; format = '1D'; unit = 'pixel'; disp = 'F11.4'\n",
       "    name = 'YWIN_IMAGE'; format = '1D'; unit = 'pixel'; disp = 'F11.4'\n",
       "    name = 'AWIN_IMAGE'; format = '1E'; unit = 'pixel'; disp = 'F9.3'\n",
       "    name = 'BWIN_IMAGE'; format = '1E'; unit = 'pixel'; disp = 'F9.3'\n",
       "    name = 'XMIN_IMAGE'; format = '1J'; unit = 'pixel'; disp = 'I10'\n",
       "    name = 'YMIN_IMAGE'; format = '1J'; unit = 'pixel'; disp = 'I10'\n",
       "    name = 'XMAX_IMAGE'; format = '1J'; unit = 'pixel'; disp = 'I10'\n",
       "    name = 'YMAX_IMAGE'; format = '1J'; unit = 'pixel'; disp = 'I10'\n",
       "    name = 'FLUX_AUTO'; format = '1E'; unit = 'count'; disp = 'G12.7'\n",
       "    name = 'FLUXERR_AUTO'; format = '1E'; unit = 'count'; disp = 'G12.7'\n",
       "    name = 'MAG_AUTO'; format = '1E'; unit = 'mag'; disp = 'F8.4'\n",
       "    name = 'MAGERR_AUTO'; format = '1E'; unit = 'mag'; disp = 'F8.4'\n",
       "    name = 'THETA_IMAGE'; format = '1E'; unit = 'deg'; disp = 'F6.2'\n",
       "    name = 'ERRTHETA_IMAGE'; format = '1E'; unit = 'deg'; disp = 'F6.2'\n",
       "    name = 'THETA_WORLD'; format = '1E'; unit = 'deg'; disp = 'F6.2'\n",
       "    name = 'ERRTHETA_WORLD'; format = '1E'; unit = 'deg'; disp = 'F6.2'\n",
       "    name = 'THETA_J2000'; format = '1E'; unit = 'deg'; disp = 'F6.2'\n",
       "    name = 'ERRTHETA_J2000'; format = '1E'; unit = 'deg'; disp = 'F6.2'\n",
       "    name = 'ELONGATION'; format = '1E'; disp = 'F8.3'\n",
       "    name = 'ELLIPTICITY'; format = '1E'; disp = 'F8.3'\n",
       "    name = 'ERRA_IMAGE'; format = '1E'; unit = 'pixel'; disp = 'F9.5'\n",
       "    name = 'ERRB_IMAGE'; format = '1E'; unit = 'pixel'; disp = 'F9.5'\n",
       "    name = 'FWHM_IMAGE'; format = '1E'; unit = 'pixel'; disp = 'F8.2'\n",
       "    name = 'FWHM_WORLD'; format = '1E'; unit = 'deg'; disp = 'G12.7'\n",
       "    name = 'FLAGS'; format = '1I'; disp = 'I3'\n",
       "    name = 'FLAGS_WEIGHT'; format = '1I'; disp = 'I1'\n",
       "    name = 'FLAGS_WIN'; format = '1I'; disp = 'I3'\n",
       "    name = 'CLASS_STAR'; format = '1E'; disp = 'F6.3'\n",
       "    name = 'FLUX_RADIUS'; format = '1E'; unit = 'pixel'; disp = 'F10.3'\n",
       ")"
      ]
     },
     "execution_count": 6,
     "metadata": {},
     "output_type": "execute_result"
    }
   ],
   "source": [
    "cluster = \"A1367\"\n",
    "hacat = glob.glob(cluster + \"_ha*.cat\")\n",
    "rcat = glob.glob(cluster + \"_R.cat\")\n",
    "try:\n",
    "    hacat = hacat[0]\n",
    "    rcat = rcat[0]\n",
    "except IndexError:\n",
    "    print \"No catalogs found\"\n",
    "    sys.exit(0)\n",
    "hadat = fits.getdata(hacat,2)\n",
    "rdat = fits.getdata(rcat,2)\n",
    "hadat.columns\n"
   ]
  },
  {
   "cell_type": "code",
   "execution_count": 8,
   "metadata": {
    "collapsed": false
   },
   "outputs": [
    {
     "name": "stdout",
     "output_type": "stream",
     "text": [
      "0\n",
      "1\n",
      "2\n",
      "3\n"
     ]
    }
   ],
   "source": [
    "for i in range(4):\n",
    "    print i"
   ]
  },
  {
   "cell_type": "code",
   "execution_count": 10,
   "metadata": {
    "collapsed": false
   },
   "outputs": [
    {
     "data": {
      "text/plain": [
       "0"
      ]
     },
     "execution_count": 10,
     "metadata": {},
     "output_type": "execute_result"
    }
   ],
   "source": [
    "rflags = rdat[\"FLAGS\"]\n",
    "rflags[6]"
   ]
  },
  {
   "cell_type": "code",
   "execution_count": 11,
   "metadata": {
    "collapsed": false
   },
   "outputs": [
    {
     "name": "stdout",
     "output_type": "stream",
     "text": [
      "675\n",
      "999\n"
     ]
    }
   ],
   "source": [
    "print len(hflags)\n",
    "print len(rflags)"
   ]
  },
  {
   "cell_type": "code",
   "execution_count": null,
   "metadata": {
    "collapsed": true
   },
   "outputs": [],
   "source": []
  }
 ],
 "metadata": {
  "kernelspec": {
   "display_name": "Python 2",
   "language": "python",
   "name": "python2"
  },
  "language_info": {
   "codemirror_mode": {
    "name": "ipython",
    "version": 2
   },
   "file_extension": ".py",
   "mimetype": "text/x-python",
   "name": "python",
   "nbconvert_exporter": "python",
   "pygments_lexer": "ipython2",
   "version": "2.7.11"
  }
 },
 "nbformat": 4,
 "nbformat_minor": 0
}
