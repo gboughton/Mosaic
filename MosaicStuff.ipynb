{
 "cells": [
  {
   "cell_type": "code",
   "execution_count": 59,
   "metadata": {
    "collapsed": true
   },
   "outputs": [],
   "source": [
    "import os\n",
    "import sys\n",
    "import glob\n",
    "import argparse\n",
    "import numpy as np\n",
    "from astropy.io import fits\n",
    "from scipy.stats import mode\n",
    "import matplotlib.pyplot as plt\n",
    "%matplotlib inline"
   ]
  },
  {
   "cell_type": "code",
   "execution_count": 75,
   "metadata": {
    "collapsed": false
   },
   "outputs": [
    {
     "name": "stderr",
     "output_type": "stream",
     "text": [
      "usage: __main__.py [-h] [--d D] [--c C]\n",
      "__main__.py: error: unrecognized arguments: -f /Users/alfalfa/Library/Jupyter/runtime/kernel-1aa794b3-4530-4166-ac08-ed9524dec0f2.json\n"
     ]
    },
    {
     "ename": "SystemExit",
     "evalue": "2",
     "output_type": "error",
     "traceback": [
      "An exception has occurred, use %tb to see the full traceback.\n",
      "\u001b[0;31mSystemExit\u001b[0m\u001b[0;31m:\u001b[0m 2\n"
     ]
    },
    {
     "name": "stderr",
     "output_type": "stream",
     "text": [
      "To exit: use 'exit', 'quit', or Ctrl-D.\n"
     ]
    }
   ],
   "source": [
    "parser = argparse.ArgumentParser(description ='Run sextractor on mosaics')\n",
    "parser.add_argument('--d',dest = 'd', default =' ~/github/HalphaImaging/astromatic', help = 'Locates path of config files')\n",
    "parser.add_argument('--c',dest = 'c', default ='all', help = 'Cluster name to find scale of. Defaults to all in directory')\n",
    "args = parser.parse_args()\n",
    "os.system('cp ' +args.d + '/default.* .')"
   ]
  },
  {
   "cell_type": "code",
   "execution_count": 68,
   "metadata": {
    "collapsed": false
   },
   "outputs": [
    {
     "name": "stdout",
     "output_type": "stream",
     "text": [
      "Running Sextractor on A1367\n"
     ]
    }
   ],
   "source": [
    "hafiles = glob.glob('*_ha*')\n",
    "hafiles = set(hafiles) - set(glob.glob(\"*.*\"))\n",
    "for it in hafiles:\n",
    "    t = it.split('_')\n",
    "    print \"Running Sextractor on\",t[0]\n",
    "    ir = t[0]+'_R'\n",
    "    os.system('/usr/bin/sextractor ' + it + '.coadd.fits -c default.sex.hdi -CATALOG_NAME ' + it + '.cat')\n",
    "    os.system('/usr/bin/sextractor ' + it + '.coadd.fits,' + ir + '.coadd.fits -c default.sex.hdi -CATALOG_NAME ' + ir + '.cat')\n",
    "    os.rename('check.fits', t[0] + 'check.fits')\n",
    "# Catalogs made"
   ]
  },
  {
   "cell_type": "code",
   "execution_count": 66,
   "metadata": {
    "collapsed": false
   },
   "outputs": [],
   "source": [
    "def FindScale(cluster):\n",
    "    hacat = glob.glob(cluster + \"_ha*.cat\")\n",
    "    rcat = glob.glob(cluster + \"_R.cat\")\n",
    "    try:\n",
    "        hacat = hacat[0]\n",
    "        rcat = rcat[0]\n",
    "    except IndexError:\n",
    "        print \"No catalogs found\"\n",
    "        sys.exit(0)\n",
    "    hadat = fits.getdata(hacat,2)\n",
    "    rdat = fits.getdata(rcat,2)\n",
    "    haflux = hadat[\"FLUX_AUTO\"]\n",
    "    rflux = rdat[\"FLUX_AUTO\"]\n",
    "    hflags = hadat[\"FLAGS\"]\n",
    "    rflags = rdat[\"FLAGS\"]\n",
    "    keepflag = np.ones(len(rflags),dtype = bool)\n",
    "    for i in range(len(hflags)):\n",
    "        if (rflags[i]+hflags[i])>0:\n",
    "            keepflag[i] = False\n",
    "    rgflx = rflux[keepflag]\n",
    "    hagflx = haflux[keepflag]\n",
    "    qflux = hagflx/rgflx\n",
    "    for i in range(len(qflux)):\n",
    "        if abs(qflux[i]) >.15:\n",
    "            nflag[i] = False\n",
    "    qflux = qflux[nflag]\n",
    "    plt.hist(qflux)\n",
    "    plt.title(\"Halpha Flux / R Flux\")\n",
    "    plt.xlabel(\"Scale\")\n",
    "    plt.ylabel(\"Amount\")\n",
    "    print \"Cluster Name:\", cluster\n",
    "    print \"Number of Points Found:\", len(rflags)\n",
    "    print \"Number of Uncompromised Points:\", len(rgflx)\n",
    "    print \"Number of Points w/o Outliers:\", len(qflux)\n",
    "    print \"Average Scale:\", np.mean(qflux)\n",
    "    print \n",
    "    return np.mean(qflux)"
   ]
  },
  {
   "cell_type": "code",
   "execution_count": 67,
   "metadata": {
    "collapsed": false
   },
   "outputs": [
    {
     "name": "stdout",
     "output_type": "stream",
     "text": [
      "Cluster Name: A1367\n",
      "Number of Points Found: 676\n",
      "Number of Uncompromised Points: 596\n",
      "Number of Points w/o Outliers: 592\n",
      "Average Scale: 0.0452713\n",
      "\n",
      "Cluster Name: A1367\n",
      "Number of Points Found: 676\n",
      "Number of Uncompromised Points: 596\n",
      "Number of Points w/o Outliers: 592\n",
      "Average Scale: 0.0452713\n",
      "\n"
     ]
    },
    {
     "data": {
      "text/plain": [
       "0.045271318"
      ]
     },
     "execution_count": 67,
     "metadata": {},
     "output_type": "execute_result"
    },
    {
     "data": {
      "image/png": "[encoded data removed]",
      "text/plain": [
       "<matplotlib.figure.Figure at 0x113a47d50>"
      ]
     },
     "metadata": {},
     "output_type": "display_data"
    }
   ],
   "source": [
    "FindScale(\"A1367\")\n",
    "FindScale(\"A1367\")"
   ]
  },
  {
   "cell_type": "code",
   "execution_count": null,
   "metadata": {
    "collapsed": true
   },
   "outputs": [],
   "source": []
  }
 ],
 "metadata": {
  "kernelspec": {
   "display_name": "Python 2",
   "language": "python",
   "name": "python2"
  },
  "language_info": {
   "codemirror_mode": {
    "name": "ipython",
    "version": 2
   },
   "file_extension": ".py",
   "mimetype": "text/x-python",
   "name": "python",
   "nbconvert_exporter": "python",
   "pygments_lexer": "ipython2",
   "version": "2.7.11"
  }
 },
 "nbformat": 4,
 "nbformat_minor": 0
}
